{
 "cells": [
  {
   "cell_type": "code",
   "execution_count": 7,
   "id": "f6cfa2e1",
   "metadata": {
    "scrolled": true
   },
   "outputs": [
    {
     "name": "stdout",
     "output_type": "stream",
     "text": [
      "bytearray(b'\\x01\\x01\\x00\\x00\\x00\\x00')\n",
      "0b11000101\n",
      "bytearray(b'\\x01\\x01\\x00\\x00\\x00\\x00\\xc5')\n"
     ]
    }
   ],
   "source": [
    "#total 8 bytes or 1 uint64\n",
    "Message = bytearray()\n",
    "LL = 0x01\n",
    "Message.append(LL)\n",
    "LU = 0x01\n",
    "Message.append(LU)\n",
    "RL = 0x00\n",
    "Message.append(RL)\n",
    "RU = 0x00\n",
    "Message.append(RU)\n",
    "Bdy = 0x00\n",
    "Message.append(Bdy)\n",
    "Hd = 0x00\n",
    "Message.append(Hd)\n",
    "print(Message)\n",
    "ErrCodeBdy = int(\"00101\",2)\n",
    "ErrCodeCOM = 1<<6\n",
    "ErrCodeCOM2 = 1<<7\n",
    "ErrorcodeOuput = ErrCodeBdy | ErrCodeCOM | ErrCodeCOM2\n",
    "print(bin(ErrorcodeOuput))\n",
    "Message.append(ErrorcodeOuput)\n",
    "print(Message)"
   ]
  },
  {
   "cell_type": "code",
   "execution_count": null,
   "id": "8cc790ca",
   "metadata": {},
   "outputs": [],
   "source": []
  }
 ],
 "metadata": {
  "kernelspec": {
   "display_name": "Python 3 (ipykernel)",
   "language": "python",
   "name": "python3"
  },
  "language_info": {
   "codemirror_mode": {
    "name": "ipython",
    "version": 3
   },
   "file_extension": ".py",
   "mimetype": "text/x-python",
   "name": "python",
   "nbconvert_exporter": "python",
   "pygments_lexer": "ipython3",
   "version": "3.9.13"
  }
 },
 "nbformat": 4,
 "nbformat_minor": 5
}
